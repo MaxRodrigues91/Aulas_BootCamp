{
  "nbformat": 4,
  "nbformat_minor": 0,
  "metadata": {
    "kernelspec": {
      "display_name": "Python 3",
      "language": "python",
      "name": "python3"
    },
    "language_info": {
      "codemirror_mode": {
        "name": "ipython",
        "version": 3
      },
      "file_extension": ".py",
      "mimetype": "text/x-python",
      "name": "python",
      "nbconvert_exporter": "python",
      "pygments_lexer": "ipython3",
      "version": "3.8.5"
    },
    "colab": {
      "name": "Semana4(SQL)-Aula_Max.ipynb",
      "provenance": []
    }
  },
  "cells": [
    {
      "cell_type": "code",
      "metadata": {
        "id": "zbRZ1bQGt0Ck"
      },
      "source": [
        "import sqlite3\n",
        "engine = sqlite3.connect('example20.db')"
      ],
      "execution_count": 1,
      "outputs": []
    },
    {
      "cell_type": "code",
      "metadata": {
        "id": "eYwfOSuzt0Ct",
        "colab": {
          "base_uri": "https://localhost:8080/"
        },
        "outputId": "865cb581-56f3-43bd-faff-ae5e78748799"
      },
      "source": [
        "cursor = engine.cursor()\n",
        "cursor.execute(\"PRAGMA foreign_keys\").fetchall()"
      ],
      "execution_count": 2,
      "outputs": [
        {
          "output_type": "execute_result",
          "data": {
            "text/plain": [
              "[(0,)]"
            ]
          },
          "metadata": {
            "tags": []
          },
          "execution_count": 2
        }
      ]
    },
    {
      "cell_type": "code",
      "metadata": {
        "id": "pS4J1MaZt0Cv"
      },
      "source": [
        "sql_create_projects_table = \"\"\" CREATE TABLE IF NOT EXISTS projects (\n",
        "                                        id integer PRIMARY KEY,\n",
        "                                        name text NOT NULL,\n",
        "                                        begin_date text,\n",
        "                                        end_date text\n",
        "                                    ); \"\"\""
      ],
      "execution_count": 3,
      "outputs": []
    },
    {
      "cell_type": "code",
      "metadata": {
        "id": "nZsxseTTt0Cw"
      },
      "source": [
        "sql_create_tasks_table = \"\"\"CREATE TABLE IF NOT EXISTS tasks (\n",
        "                                    id integer PRIMARY KEY,\n",
        "                                    name text NOT NULL,\n",
        "                                    priority integer,\n",
        "                                    status_id integer NOT NULL,\n",
        "                                    project_id integer NOT NULL REFERENCES projects (id),\n",
        "                                    begin_date text NOT NULL,\n",
        "                                    end_date text NOT NULL\n",
        "                                );\"\"\"\n",
        "# StudentId INT REFERENCES Student (StudentId)\n",
        "#FOREIGN KEY (project_id) REFERENCES projects (id)"
      ],
      "execution_count": 4,
      "outputs": []
    },
    {
      "cell_type": "code",
      "metadata": {
        "id": "ZN2a8-iTt0Cw",
        "colab": {
          "base_uri": "https://localhost:8080/"
        },
        "outputId": "7c1c891a-d6e7-4afd-ce7e-774bfbf062b9"
      },
      "source": [
        "cursor.execute(sql_create_projects_table)"
      ],
      "execution_count": 5,
      "outputs": [
        {
          "output_type": "execute_result",
          "data": {
            "text/plain": [
              "<sqlite3.Cursor at 0x7f2eacb21d50>"
            ]
          },
          "metadata": {
            "tags": []
          },
          "execution_count": 5
        }
      ]
    },
    {
      "cell_type": "code",
      "metadata": {
        "id": "LWnYqOKKt0Cx",
        "colab": {
          "base_uri": "https://localhost:8080/"
        },
        "outputId": "4391d022-e562-44c6-da7e-97d7e47521c9"
      },
      "source": [
        "cursor.execute(sql_create_tasks_table)"
      ],
      "execution_count": 6,
      "outputs": [
        {
          "output_type": "execute_result",
          "data": {
            "text/plain": [
              "<sqlite3.Cursor at 0x7f2eacb21d50>"
            ]
          },
          "metadata": {
            "tags": []
          },
          "execution_count": 6
        }
      ]
    },
    {
      "cell_type": "code",
      "metadata": {
        "id": "Xq3cufl0t0Cx",
        "colab": {
          "base_uri": "https://localhost:8080/"
        },
        "outputId": "f400fb34-ec7c-46a9-d0da-aff7f0b4356c"
      },
      "source": [
        "data = cursor.execute(\"PRAGMA table_info(projects)\").fetchall()\n",
        "for d in data:\n",
        "    print (d[0], d[1], d[2])"
      ],
      "execution_count": 7,
      "outputs": [
        {
          "output_type": "stream",
          "text": [
            "0 id integer\n",
            "1 name text\n",
            "2 begin_date text\n",
            "3 end_date text\n"
          ],
          "name": "stdout"
        }
      ]
    },
    {
      "cell_type": "code",
      "metadata": {
        "id": "N5EBrbHOt0Cy",
        "colab": {
          "base_uri": "https://localhost:8080/"
        },
        "outputId": "603115f2-5711-4b57-b125-de73f658a5a2"
      },
      "source": [
        "data = cursor.execute(\"PRAGMA table_info(tasks)\").fetchall()\n",
        "for d in data:\n",
        "    print (d[0], d[1],d[2])"
      ],
      "execution_count": 8,
      "outputs": [
        {
          "output_type": "stream",
          "text": [
            "0 id integer\n",
            "1 name text\n",
            "2 priority integer\n",
            "3 status_id integer\n",
            "4 project_id integer\n",
            "5 begin_date text\n",
            "6 end_date text\n"
          ],
          "name": "stdout"
        }
      ]
    },
    {
      "cell_type": "code",
      "metadata": {
        "id": "_9u08dcyt0Cy",
        "colab": {
          "base_uri": "https://localhost:8080/"
        },
        "outputId": "ec55beee-9813-4868-80cd-1140522a8b65"
      },
      "source": [
        "cursor.execute(\"INSERT INTO projects (name,begin_date,end_date) VALUES ('Project03','2021-02-23','2021-03-23')\")"
      ],
      "execution_count": 9,
      "outputs": [
        {
          "output_type": "execute_result",
          "data": {
            "text/plain": [
              "<sqlite3.Cursor at 0x7f2eacb21d50>"
            ]
          },
          "metadata": {
            "tags": []
          },
          "execution_count": 9
        }
      ]
    },
    {
      "cell_type": "code",
      "metadata": {
        "id": "vj8iH1JDt0Cy"
      },
      "source": [
        "engine.commit()"
      ],
      "execution_count": 10,
      "outputs": []
    },
    {
      "cell_type": "code",
      "metadata": {
        "id": "PfxlnDTMt0Cz",
        "colab": {
          "base_uri": "https://localhost:8080/"
        },
        "outputId": "e5626038-6e38-496d-d93d-7a8b0200e694"
      },
      "source": [
        "cursor.execute('SELECT * FROM projects ').fetchall()"
      ],
      "execution_count": 11,
      "outputs": [
        {
          "output_type": "execute_result",
          "data": {
            "text/plain": [
              "[(1, 'Project03', '2021-02-23', '2021-03-23')]"
            ]
          },
          "metadata": {
            "tags": []
          },
          "execution_count": 11
        }
      ]
    },
    {
      "cell_type": "code",
      "metadata": {
        "id": "5JEXx0zjt0Cz",
        "colab": {
          "base_uri": "https://localhost:8080/"
        },
        "outputId": "68258e35-fd0d-4464-d5f8-0f3948784f08"
      },
      "source": [
        "cursor.execute(\"INSERT INTO tasks (name,priority,status_id,project_id,begin_date,end_date)\\\n",
        "    VALUES ('task05',0,1,10,'2021-02-23','2021-03-23')\")"
      ],
      "execution_count": 12,
      "outputs": [
        {
          "output_type": "execute_result",
          "data": {
            "text/plain": [
              "<sqlite3.Cursor at 0x7f2eacb21d50>"
            ]
          },
          "metadata": {
            "tags": []
          },
          "execution_count": 12
        }
      ]
    },
    {
      "cell_type": "code",
      "metadata": {
        "id": "JW72O0aEt0Cz"
      },
      "source": [
        "#tasks=[(1,'task01',0,1,0,'2021-02-23','2021-03-23'), (2,'task02',0,1,0,'2021-02-23','2021-03-23')]\n",
        "#cursor.executemany('INSERT INTO tasks VALUES (?,?,?,?,?,?,?)', tasks)"
      ],
      "execution_count": 13,
      "outputs": []
    },
    {
      "cell_type": "code",
      "metadata": {
        "id": "JV1MxxOet0C0",
        "colab": {
          "base_uri": "https://localhost:8080/"
        },
        "outputId": "d66aac45-fa64-44ee-8148-4f8e75c357cf"
      },
      "source": [
        "cursor.execute(\"SELECT * from tasks\").fetchall()"
      ],
      "execution_count": 14,
      "outputs": [
        {
          "output_type": "execute_result",
          "data": {
            "text/plain": [
              "[(1, 'task05', 0, 1, 10, '2021-02-23', '2021-03-23')]"
            ]
          },
          "metadata": {
            "tags": []
          },
          "execution_count": 14
        }
      ]
    },
    {
      "cell_type": "code",
      "metadata": {
        "id": "0Fs5AtFYt0C0"
      },
      "source": [
        ""
      ],
      "execution_count": null,
      "outputs": []
    },
    {
      "cell_type": "code",
      "metadata": {
        "id": "8hS3akRst0C0"
      },
      "source": [
        ""
      ],
      "execution_count": null,
      "outputs": []
    },
    {
      "cell_type": "code",
      "metadata": {
        "id": "dU_8duCPt0C0",
        "colab": {
          "base_uri": "https://localhost:8080/"
        },
        "outputId": "cce6f743-3309-4db3-c7a8-3206757e4ba6"
      },
      "source": [
        "cursor.execute('''CREATE TABLE EMP\n",
        "             (EMPNO int, ENAME text, JOB text, MGR int, HIREDATE date, SAL real,COMM int, DEPTNO int)''')"
      ],
      "execution_count": 15,
      "outputs": [
        {
          "output_type": "execute_result",
          "data": {
            "text/plain": [
              "<sqlite3.Cursor at 0x7f2eacb21d50>"
            ]
          },
          "metadata": {
            "tags": []
          },
          "execution_count": 15
        }
      ]
    },
    {
      "cell_type": "code",
      "metadata": {
        "id": "KJXoW9K9t0C1",
        "colab": {
          "base_uri": "https://localhost:8080/"
        },
        "outputId": "437a5425-5bc3-46d9-9698-1c8d94ea23c2"
      },
      "source": [
        "data = cursor.execute(\"PRAGMA table_info(EMP)\").fetchall()\n",
        "for d in data:\n",
        "    print (d[0], d[1], d[2])"
      ],
      "execution_count": 16,
      "outputs": [
        {
          "output_type": "stream",
          "text": [
            "0 EMPNO int\n",
            "1 ENAME text\n",
            "2 JOB text\n",
            "3 MGR int\n",
            "4 HIREDATE date\n",
            "5 SAL real\n",
            "6 COMM int\n",
            "7 DEPTNO int\n"
          ],
          "name": "stdout"
        }
      ]
    },
    {
      "cell_type": "code",
      "metadata": {
        "id": "5Opj9Y6Kt0C1"
      },
      "source": [
        " employes = [(7369, 'SMITH',  'CLERK', 7902, '2005-12-11', 800, 150 , 20),\n",
        " (7499, 'ALLEN',  'SALESMAN', 7698, '2006-02-23',1600, 300, 30),\n",
        " (7521, 'WARD', 'SALESMAN', 7698,'2006-02-26', 1250, 500, 30),\n",
        " (7566, 'JONES','MANAGER', 7839,'2006-04-02', 2975, 520, 20),            \n",
        " (7654, 'MARTIN','SALESMAN', 7698,'2006-09-28', 1400, 420, 30),\n",
        " (7698, 'BLAKE','MANAGER', 7839,'2006-05-1', 2850, 600, 30),\n",
        " (7782, 'CLARK', 'MANAGER', 7839, '2006-06-09',2450, 580,10),\n",
        " (7788, 'SCOTT', 'ANALYST', 7566,'2007-12-09',3000,640,20),\n",
        " (7839, 'KING','PRESIDENT','', '2006-11-17',5000,0,10),\n",
        " (7844, 'TURNER', 'SALESMAN',7698,'2006-09-13',1500,0,30),\n",
        " (7876, 'ADAMS', 'CLERK',7788, '2008-01-12',1100,50,20),\n",
        " (7900, 'JAMES', 'CLERK',7698, '2006-12-03',950,40,30),\n",
        " (7902, 'FORD', 'ANALYST',7566,'2006-12-03',3000,10,20),\n",
        " (7934, 'MILLER','CLERK',7782,'2007-01-23',1300,\"\",10)]"
      ],
      "execution_count": 17,
      "outputs": []
    },
    {
      "cell_type": "code",
      "metadata": {
        "id": "yHPu3Ge9t0C1",
        "colab": {
          "base_uri": "https://localhost:8080/"
        },
        "outputId": "1a99eca5-8044-4d60-9645-276bdfd4f735"
      },
      "source": [
        "cursor.executemany('INSERT INTO EMP VALUES (?,?,?,?,?,?,?,?)', employes)"
      ],
      "execution_count": 18,
      "outputs": [
        {
          "output_type": "execute_result",
          "data": {
            "text/plain": [
              "<sqlite3.Cursor at 0x7f2eacb21d50>"
            ]
          },
          "metadata": {
            "tags": []
          },
          "execution_count": 18
        }
      ]
    },
    {
      "cell_type": "code",
      "metadata": {
        "id": "S-0TyVust0C2",
        "colab": {
          "base_uri": "https://localhost:8080/"
        },
        "outputId": "eb0fafd0-d8fb-4743-ff0b-24e9faf1dad0"
      },
      "source": [
        "cursor.execute('SELECT * FROM EMP').fetchall()"
      ],
      "execution_count": 19,
      "outputs": [
        {
          "output_type": "execute_result",
          "data": {
            "text/plain": [
              "[(7369, 'SMITH', 'CLERK', 7902, '2005-12-11', 800.0, 150, 20),\n",
              " (7499, 'ALLEN', 'SALESMAN', 7698, '2006-02-23', 1600.0, 300, 30),\n",
              " (7521, 'WARD', 'SALESMAN', 7698, '2006-02-26', 1250.0, 500, 30),\n",
              " (7566, 'JONES', 'MANAGER', 7839, '2006-04-02', 2975.0, 520, 20),\n",
              " (7654, 'MARTIN', 'SALESMAN', 7698, '2006-09-28', 1400.0, 420, 30),\n",
              " (7698, 'BLAKE', 'MANAGER', 7839, '2006-05-1', 2850.0, 600, 30),\n",
              " (7782, 'CLARK', 'MANAGER', 7839, '2006-06-09', 2450.0, 580, 10),\n",
              " (7788, 'SCOTT', 'ANALYST', 7566, '2007-12-09', 3000.0, 640, 20),\n",
              " (7839, 'KING', 'PRESIDENT', '', '2006-11-17', 5000.0, 0, 10),\n",
              " (7844, 'TURNER', 'SALESMAN', 7698, '2006-09-13', 1500.0, 0, 30),\n",
              " (7876, 'ADAMS', 'CLERK', 7788, '2008-01-12', 1100.0, 50, 20),\n",
              " (7900, 'JAMES', 'CLERK', 7698, '2006-12-03', 950.0, 40, 30),\n",
              " (7902, 'FORD', 'ANALYST', 7566, '2006-12-03', 3000.0, 10, 20),\n",
              " (7934, 'MILLER', 'CLERK', 7782, '2007-01-23', 1300.0, '', 10)]"
            ]
          },
          "metadata": {
            "tags": []
          },
          "execution_count": 19
        }
      ]
    },
    {
      "cell_type": "code",
      "metadata": {
        "id": "NvacUEFvt0C2",
        "outputId": "1cfd803f-9a3c-46bd-97ef-79e7b654a97c"
      },
      "source": [
        "cursor.execute('''CREATE TABLE DEPT\n",
        "             (DEPTNO int not null, DNAME  text, LOC text)''')"
      ],
      "execution_count": null,
      "outputs": [
        {
          "output_type": "execute_result",
          "data": {
            "text/plain": [
              "<sqlite3.Cursor at 0x110908420>"
            ]
          },
          "metadata": {
            "tags": []
          },
          "execution_count": 21
        }
      ]
    },
    {
      "cell_type": "code",
      "metadata": {
        "id": "J7uX0zZUt0C2"
      },
      "source": [
        "depts = [(10,'ACCOUNTING','NEW YORK'),\n",
        "         (20,'RESEARCH','DALLAS'),\n",
        "         (30,'SALES','CHICAGO'),\n",
        "         (40,'OPERATIONS','BOSTON')] \n"
      ],
      "execution_count": null,
      "outputs": []
    },
    {
      "cell_type": "code",
      "metadata": {
        "id": "HRjtrHe6t0C2",
        "outputId": "7a7db441-c505-421d-fb60-babf6fc3a800"
      },
      "source": [
        "type(depts)"
      ],
      "execution_count": null,
      "outputs": [
        {
          "output_type": "execute_result",
          "data": {
            "text/plain": [
              "list"
            ]
          },
          "metadata": {
            "tags": []
          },
          "execution_count": 23
        }
      ]
    },
    {
      "cell_type": "code",
      "metadata": {
        "id": "RfJJBWWYt0C3",
        "outputId": "5bc9b541-4695-4db2-d60b-fd0dab8b58c4"
      },
      "source": [
        "cursor.executemany('INSERT INTO DEPT VALUES (?,?,?)', depts)"
      ],
      "execution_count": null,
      "outputs": [
        {
          "output_type": "execute_result",
          "data": {
            "text/plain": [
              "<sqlite3.Cursor at 0x110908420>"
            ]
          },
          "metadata": {
            "tags": []
          },
          "execution_count": 24
        }
      ]
    },
    {
      "cell_type": "code",
      "metadata": {
        "id": "_xzZgImkt0C3",
        "outputId": "d366668a-7cbc-4388-e715-6db6eb7b577f"
      },
      "source": [
        "cursor.execute('SELECT * FROM DEPT').fetchall()"
      ],
      "execution_count": null,
      "outputs": [
        {
          "output_type": "execute_result",
          "data": {
            "text/plain": [
              "[(10, 'ACCOUNTING', 'NEW YORK'),\n",
              " (20, 'RESEARCH', 'DALLAS'),\n",
              " (30, 'SALES', 'CHICAGO'),\n",
              " (40, 'OPERATIONS', 'BOSTON')]"
            ]
          },
          "metadata": {
            "tags": []
          },
          "execution_count": 25
        }
      ]
    },
    {
      "cell_type": "code",
      "metadata": {
        "id": "LDEsNwhAt0C3",
        "outputId": "d4311808-0770-475f-94c8-c7483daf9bd5"
      },
      "source": [
        "### SELECT - Filtrando por atributos (Colunas) ##### \n",
        "cursor.execute('select empno,ename,job,sal,mgr,hiredate,comm,deptno from emp').fetchall()"
      ],
      "execution_count": null,
      "outputs": [
        {
          "output_type": "execute_result",
          "data": {
            "text/plain": [
              "[(7369, 'SMITH', 'CLERK', 800.0, 7902, '2005-12-11', 150, 20),\n",
              " (7499, 'ALLEN', 'SALESMAN', 1600.0, 7698, '2006-02-23', 300, 30),\n",
              " (7521, 'WARD', 'SALESMAN', 1250.0, 7698, '2006-02-26', 500, 30),\n",
              " (7566, 'JONES', 'MANAGER', 2975.0, 7839, '2006-04-02', 520, 20),\n",
              " (7654, 'MARTIN', 'SALESMAN', 1400.0, 7698, '2006-09-28', 420, 30),\n",
              " (7698, 'BLAKE', 'MANAGER', 2850.0, 7839, '2006-05-1', 600, 30),\n",
              " (7782, 'CLARK', 'MANAGER', 2450.0, 7839, '2006-06-09', 580, 10),\n",
              " (7788, 'SCOTT', 'ANALYST', 3000.0, 7566, '2007-12-09', 640, 20),\n",
              " (7839, 'KING', 'PRESIDENT', 5000.0, '', '2006-11-17', 0, 10),\n",
              " (7844, 'TURNER', 'SALESMAN', 1500.0, 7698, '2006-09-13', 0, 30),\n",
              " (7876, 'ADAMS', 'CLERK', 1100.0, 7788, '2008-01-12', 50, 20),\n",
              " (7900, 'JAMES', 'CLERK', 950.0, 7698, '2006-12-03', 40, 30),\n",
              " (7902, 'FORD', 'ANALYST', 3000.0, 7566, '2006-12-03', 10, 20),\n",
              " (7934, 'MILLER', 'CLERK', 1300.0, 7782, '2007-01-23', '', 10)]"
            ]
          },
          "metadata": {
            "tags": []
          },
          "execution_count": 26
        }
      ]
    },
    {
      "cell_type": "code",
      "metadata": {
        "id": "SQ1RH1Qvt0C4",
        "colab": {
          "base_uri": "https://localhost:8080/"
        },
        "outputId": "1ddf483e-b5fc-42a2-dd64-75aa0341ca45"
      },
      "source": [
        "### Retrieving a Subset of Rows from a Table #### \n",
        "cursor.execute('select * from emp where deptno < 30').fetchall()"
      ],
      "execution_count": 20,
      "outputs": [
        {
          "output_type": "execute_result",
          "data": {
            "text/plain": [
              "[(7369, 'SMITH', 'CLERK', 7902, '2005-12-11', 800.0, 150, 20),\n",
              " (7566, 'JONES', 'MANAGER', 7839, '2006-04-02', 2975.0, 520, 20),\n",
              " (7782, 'CLARK', 'MANAGER', 7839, '2006-06-09', 2450.0, 580, 10),\n",
              " (7788, 'SCOTT', 'ANALYST', 7566, '2007-12-09', 3000.0, 640, 20),\n",
              " (7839, 'KING', 'PRESIDENT', '', '2006-11-17', 5000.0, 0, 10),\n",
              " (7876, 'ADAMS', 'CLERK', 7788, '2008-01-12', 1100.0, 50, 20),\n",
              " (7902, 'FORD', 'ANALYST', 7566, '2006-12-03', 3000.0, 10, 20),\n",
              " (7934, 'MILLER', 'CLERK', 7782, '2007-01-23', 1300.0, '', 10)]"
            ]
          },
          "metadata": {
            "tags": []
          },
          "execution_count": 20
        }
      ]
    },
    {
      "cell_type": "code",
      "metadata": {
        "id": "RcQXHOL8t0C4",
        "colab": {
          "base_uri": "https://localhost:8080/"
        },
        "outputId": "21dc79b6-019f-4e33-8fe1-8d0950f37c69"
      },
      "source": [
        "cursor.execute('select count(deptno) from emp where deptno != 20').fetchall()"
      ],
      "execution_count": 21,
      "outputs": [
        {
          "output_type": "execute_result",
          "data": {
            "text/plain": [
              "[(9,)]"
            ]
          },
          "metadata": {
            "tags": []
          },
          "execution_count": 21
        }
      ]
    },
    {
      "cell_type": "code",
      "metadata": {
        "id": "5i3Hwg5At0C4",
        "colab": {
          "base_uri": "https://localhost:8080/"
        },
        "outputId": "b6771643-1adc-4c1e-f115-091ff5ec0237"
      },
      "source": [
        "cursor.execute('select DISTINCT job from emp where deptno =20').fetchall()"
      ],
      "execution_count": 22,
      "outputs": [
        {
          "output_type": "execute_result",
          "data": {
            "text/plain": [
              "[('CLERK',), ('MANAGER',), ('ANALYST',)]"
            ]
          },
          "metadata": {
            "tags": []
          },
          "execution_count": 22
        }
      ]
    },
    {
      "cell_type": "code",
      "metadata": {
        "id": "kWRkO_QZt0C4",
        "colab": {
          "base_uri": "https://localhost:8080/"
        },
        "outputId": "82f7beb4-941b-4fec-c7cb-07cfbfe07dfc"
      },
      "source": [
        "cursor.execute('select * from emp where deptno =20').fetchall()"
      ],
      "execution_count": 23,
      "outputs": [
        {
          "output_type": "execute_result",
          "data": {
            "text/plain": [
              "[(7369, 'SMITH', 'CLERK', 7902, '2005-12-11', 800.0, 150, 20),\n",
              " (7566, 'JONES', 'MANAGER', 7839, '2006-04-02', 2975.0, 520, 20),\n",
              " (7788, 'SCOTT', 'ANALYST', 7566, '2007-12-09', 3000.0, 640, 20),\n",
              " (7876, 'ADAMS', 'CLERK', 7788, '2008-01-12', 1100.0, 50, 20),\n",
              " (7902, 'FORD', 'ANALYST', 7566, '2006-12-03', 3000.0, 10, 20)]"
            ]
          },
          "metadata": {
            "tags": []
          },
          "execution_count": 23
        }
      ]
    },
    {
      "cell_type": "code",
      "metadata": {
        "id": "_8sBVa-Qt0C5",
        "outputId": "f223f358-d042-432c-a664-513879d25ae1"
      },
      "source": [
        "cursor.execute('update emp set sal = sal*1.10 where deptno = 20')\n",
        "engine.commit()\n",
        "cursor.execute('select * from emp where deptno =20').fetchall()"
      ],
      "execution_count": null,
      "outputs": [
        {
          "output_type": "execute_result",
          "data": {
            "text/plain": [
              "[(7369, 'SMITH', 'CLERK', 7902, '2005-12-11', 1288.4080000000008, 150, 20),\n",
              " (7566, 'JONES', 'MANAGER', 7839, '2006-04-02', 4791.267250000003, 520, 20),\n",
              " (7788, 'SCOTT', 'ANALYST', 7566, '2007-12-09', 4831.5300000000025, 640, 20),\n",
              " (7876, 'ADAMS', 'CLERK', 7788, '2008-01-12', 1771.5610000000004, 50, 20),\n",
              " (7902, 'FORD', 'ANALYST', 7566, '2006-12-03', 4831.5300000000025, 10, 20)]"
            ]
          },
          "metadata": {
            "tags": []
          },
          "execution_count": 37
        }
      ]
    },
    {
      "cell_type": "code",
      "metadata": {
        "id": "s4WCqRhgt0C5",
        "colab": {
          "base_uri": "https://localhost:8080/"
        },
        "outputId": "a02fb397-30f7-4614-d199-a67f26026073"
      },
      "source": [
        "### Using Where #### \n",
        "cursor.execute('select ename, job from emp where deptno = 10').fetchall()"
      ],
      "execution_count": 24,
      "outputs": [
        {
          "output_type": "execute_result",
          "data": {
            "text/plain": [
              "[('CLARK', 'MANAGER'), ('KING', 'PRESIDENT'), ('MILLER', 'CLERK')]"
            ]
          },
          "metadata": {
            "tags": []
          },
          "execution_count": 24
        }
      ]
    },
    {
      "cell_type": "code",
      "metadata": {
        "id": "TjZZ9VBet0C5",
        "outputId": "bd40441f-3632-4255-817e-c2d277d8a727"
      },
      "source": [
        "### Using Conditional Logic in a SELECT Statement #### \n",
        "data = cursor.execute('select ename,sal, case when sal <= 2000 then \"UNDERPAID\"\\\n",
        "                when sal >= 4000 then \"OVERPAID\"\\\n",
        "                else \"OK\" end as status from emp').fetchall()\n",
        "print(\"Name, Salary, Status\")\n",
        "for d in data: \n",
        "    print (d[0], d[1], d[2])\n",
        "\n",
        "### case when a condição (sal <= 2000) then faz alguma ação (\"Underpaid\")\n",
        "### when outra condição xxx then outra ação\n",
        "### else executa última ação\n",
        "### end fecha a clausula do case\n"
      ],
      "execution_count": null,
      "outputs": [
        {
          "output_type": "stream",
          "text": [
            "Name, Salary, Status\n",
            "SMITH 800.0 UNDERPAID\n",
            "ALLEN 1600.0 UNDERPAID\n",
            "WARD 1250.0 UNDERPAID\n",
            "JONES 2975.0 OK\n",
            "MARTIN 1400.0 UNDERPAID\n",
            "BLAKE 2850.0 OK\n",
            "CLARK 2450.0 OK\n",
            "SCOTT 3000.0 OK\n",
            "KING 5000.0 OVERPAID\n",
            "TURNER 1500.0 UNDERPAID\n",
            "ADAMS 1100.0 UNDERPAID\n",
            "JAMES 950.0 UNDERPAID\n",
            "FORD 3000.0 OK\n",
            "MILLER 1300.0 UNDERPAID\n",
            "SMITH 800.0 UNDERPAID\n",
            "ALLEN 1600.0 UNDERPAID\n",
            "WARD 1250.0 UNDERPAID\n",
            "JONES 2975.0 OK\n",
            "MARTIN 1400.0 UNDERPAID\n",
            "BLAKE 2850.0 OK\n",
            "CLARK 2450.0 OK\n",
            "SCOTT 3000.0 OK\n",
            "KING 5000.0 OVERPAID\n",
            "TURNER 1500.0 UNDERPAID\n",
            "ADAMS 1100.0 UNDERPAID\n",
            "JAMES 950.0 UNDERPAID\n",
            "FORD 3000.0 OK\n",
            "MILLER 1300.0 UNDERPAID\n"
          ],
          "name": "stdout"
        }
      ]
    },
    {
      "cell_type": "code",
      "metadata": {
        "id": "tGxMtQuMt0C5",
        "colab": {
          "base_uri": "https://localhost:8080/"
        },
        "outputId": "39fe7fb9-2b2d-470f-d159-d8c708ce2460"
      },
      "source": [
        "### Limiting the Number of Rows Returned #### \n",
        "cursor.execute('select * from emp limit 5').fetchall()"
      ],
      "execution_count": 25,
      "outputs": [
        {
          "output_type": "execute_result",
          "data": {
            "text/plain": [
              "[(7369, 'SMITH', 'CLERK', 7902, '2005-12-11', 800.0, 150, 20),\n",
              " (7499, 'ALLEN', 'SALESMAN', 7698, '2006-02-23', 1600.0, 300, 30),\n",
              " (7521, 'WARD', 'SALESMAN', 7698, '2006-02-26', 1250.0, 500, 30),\n",
              " (7566, 'JONES', 'MANAGER', 7839, '2006-04-02', 2975.0, 520, 20),\n",
              " (7654, 'MARTIN', 'SALESMAN', 7698, '2006-09-28', 1400.0, 420, 30)]"
            ]
          },
          "metadata": {
            "tags": []
          },
          "execution_count": 25
        }
      ]
    },
    {
      "cell_type": "code",
      "metadata": {
        "id": "fYl6_Lq0t0C6",
        "colab": {
          "base_uri": "https://localhost:8080/"
        },
        "outputId": "afa3da01-653b-4ad6-a51e-0c1a9e27eee4"
      },
      "source": [
        "### Returning Valores aleatórios #####\n",
        "cursor.execute('select ename,job from emp order by random() limit 5').fetchall()"
      ],
      "execution_count": 26,
      "outputs": [
        {
          "output_type": "execute_result",
          "data": {
            "text/plain": [
              "[('KING', 'PRESIDENT'),\n",
              " ('TURNER', 'SALESMAN'),\n",
              " ('ADAMS', 'CLERK'),\n",
              " ('FORD', 'ANALYST'),\n",
              " ('SCOTT', 'ANALYST')]"
            ]
          },
          "metadata": {
            "tags": []
          },
          "execution_count": 26
        }
      ]
    },
    {
      "cell_type": "code",
      "metadata": {
        "id": "D_1Tf6Nzt0C6",
        "outputId": "bc7dfd37-e4c0-468a-e094-1baba6e1fb42"
      },
      "source": [
        "## Searching for Patterns ####\n",
        "cursor.execute('select ename, job from emp where deptno in (10,20)').fetchall()"
      ],
      "execution_count": null,
      "outputs": [
        {
          "output_type": "execute_result",
          "data": {
            "text/plain": [
              "[('SMITH', 'CLERK'),\n",
              " ('JONES', 'MANAGER'),\n",
              " ('CLARK', 'MANAGER'),\n",
              " ('SCOTT', 'ANALYST'),\n",
              " ('KING', 'PRESIDENT'),\n",
              " ('ADAMS', 'CLERK'),\n",
              " ('FORD', 'ANALYST'),\n",
              " ('MILLER', 'CLERK')]"
            ]
          },
          "metadata": {
            "tags": []
          },
          "execution_count": 23
        }
      ]
    },
    {
      "cell_type": "code",
      "metadata": {
        "id": "MKW5wX1pt0C6",
        "outputId": "20cd36d8-9046-45f3-d290-868eebdf9236"
      },
      "source": [
        "### Searching for Patterns ###\n",
        "cursor.execute('select ename, job from emp where deptno in (10,20)\\\n",
        "and (ename like \"%I%\" or job like \"%ER\")').fetchall()"
      ],
      "execution_count": null,
      "outputs": [
        {
          "output_type": "execute_result",
          "data": {
            "text/plain": [
              "[('SMITH', 'CLERK'),\n",
              " ('JONES', 'MANAGER'),\n",
              " ('CLARK', 'MANAGER'),\n",
              " ('KING', 'PRESIDENT'),\n",
              " ('MILLER', 'CLERK')]"
            ]
          },
          "metadata": {
            "tags": []
          },
          "execution_count": 24
        }
      ]
    },
    {
      "cell_type": "code",
      "metadata": {
        "id": "MWUt5Ig-t0C6",
        "outputId": "8a9c5848-e39e-4e51-d4f6-a30cb9480eaf"
      },
      "source": [
        "#### Order by ###\n",
        "cursor.execute('select ename,job,sal from emp\\\n",
        "    where deptno = 10\\\n",
        "    order by sal asc').fetchall()"
      ],
      "execution_count": null,
      "outputs": [
        {
          "output_type": "execute_result",
          "data": {
            "text/plain": [
              "[('MILLER', 'CLERK', 1300.0),\n",
              " ('CLARK', 'MANAGER', 2450.0),\n",
              " ('KING', 'PRESIDENT', 5000.0)]"
            ]
          },
          "metadata": {
            "tags": []
          },
          "execution_count": 26
        }
      ]
    },
    {
      "cell_type": "code",
      "metadata": {
        "id": "APN-dSzrt0C7",
        "outputId": "b2914bb4-002d-4526-bb3e-063f9a2b2938"
      },
      "source": [
        "#### Order By #####\n",
        "cursor.execute('select empno,deptno,sal,ename,job\\\n",
        "    from emp\\\n",
        "    order by deptno, sal desc').fetchall()"
      ],
      "execution_count": null,
      "outputs": [
        {
          "output_type": "execute_result",
          "data": {
            "text/plain": [
              "[(7839, 10, 5000.0, 'KING', 'PRESIDENT'),\n",
              " (7782, 10, 2450.0, 'CLARK', 'MANAGER'),\n",
              " (7934, 10, 1300.0, 'MILLER', 'CLERK'),\n",
              " (7788, 20, 3000.0, 'SCOTT', 'ANALYST'),\n",
              " (7902, 20, 3000.0, 'FORD', 'ANALYST'),\n",
              " (7566, 20, 2975.0, 'JONES', 'MANAGER'),\n",
              " (7876, 20, 1100.0, 'ADAMS', 'CLERK'),\n",
              " (7369, 20, 800.0, 'SMITH', 'CLERK'),\n",
              " (7698, 30, 2850.0, 'BLAKE', 'MANAGER'),\n",
              " (7499, 30, 1600.0, 'ALLEN', 'SALESMAN'),\n",
              " (7844, 30, 1500.0, 'TURNER', 'SALESMAN'),\n",
              " (7654, 30, 1400.0, 'MARTIN', 'SALESMAN'),\n",
              " (7521, 30, 1250.0, 'WARD', 'SALESMAN'),\n",
              " (7900, 30, 950.0, 'JAMES', 'CLERK')]"
            ]
          },
          "metadata": {
            "tags": []
          },
          "execution_count": 27
        }
      ]
    },
    {
      "cell_type": "code",
      "metadata": {
        "id": "fWnqKOy3t0C7",
        "outputId": "69a80db7-3b96-4df2-e1b8-bb34b8cad330"
      },
      "source": [
        "#### ORDER BY SUBSTRING ##### \n",
        "cursor.execute('select ename,job\\\n",
        "  from emp\\\n",
        " order by substr(job,length(job)-1)').fetchall()"
      ],
      "execution_count": null,
      "outputs": [
        {
          "output_type": "execute_result",
          "data": {
            "text/plain": [
              "[('ALLEN', 'SALESMAN'),\n",
              " ('WARD', 'SALESMAN'),\n",
              " ('MARTIN', 'SALESMAN'),\n",
              " ('TURNER', 'SALESMAN'),\n",
              " ('JONES', 'MANAGER'),\n",
              " ('BLAKE', 'MANAGER'),\n",
              " ('CLARK', 'MANAGER'),\n",
              " ('KING', 'PRESIDENT'),\n",
              " ('SMITH', 'CLERK'),\n",
              " ('ADAMS', 'CLERK'),\n",
              " ('JAMES', 'CLERK'),\n",
              " ('MILLER', 'CLERK'),\n",
              " ('SCOTT', 'ANALYST'),\n",
              " ('FORD', 'ANALYST')]"
            ]
          },
          "metadata": {
            "tags": []
          },
          "execution_count": 28
        }
      ]
    },
    {
      "cell_type": "code",
      "metadata": {
        "id": "JBlpiGAkt0DB",
        "outputId": "a58dbfc0-58ac-458d-b4a1-e822a04432d1"
      },
      "source": [
        "cursor.execute(\"\"\"\n",
        "select JOB, COUNT(*) , AVG(SAL) AS \"AVG_SALARY\"\n",
        "from EMP\n",
        "group by JOB;\n",
        "\"\"\").fetchall()\n",
        "\n"
      ],
      "execution_count": null,
      "outputs": [
        {
          "output_type": "execute_result",
          "data": {
            "text/plain": [
              "[('ANALYST', 2, 4831.5300000000025),\n",
              " ('CLERK', 4, 1327.4922500000002),\n",
              " ('MANAGER', 3, 3363.7557500000007),\n",
              " ('PRESIDENT', 1, 5000.0),\n",
              " ('SALESMAN', 4, 1437.5)]"
            ]
          },
          "metadata": {
            "tags": []
          },
          "execution_count": 48
        }
      ]
    },
    {
      "cell_type": "code",
      "metadata": {
        "id": "q3iEfdRkt0DD",
        "outputId": "721971aa-e40c-42fc-8cee-f3b800ecdff5"
      },
      "source": [
        "cursor.execute(\"\"\"\n",
        "select EMPNO, ENAME,JOB, SAL from EMP where SAL > (select AVG(SAL) from EMP);\n",
        "\"\"\").fetchall()"
      ],
      "execution_count": null,
      "outputs": [
        {
          "output_type": "execute_result",
          "data": {
            "text/plain": [
              "[(7566, 'JONES', 'MANAGER', 4791.267250000003),\n",
              " (7698, 'BLAKE', 'MANAGER', 2850.0),\n",
              " (7788, 'SCOTT', 'ANALYST', 4831.5300000000025),\n",
              " (7839, 'KING', 'PRESIDENT', 5000.0),\n",
              " (7902, 'FORD', 'ANALYST', 4831.5300000000025)]"
            ]
          },
          "metadata": {
            "tags": []
          },
          "execution_count": 47
        }
      ]
    },
    {
      "cell_type": "code",
      "metadata": {
        "id": "mFVzQtQgt0DD"
      },
      "source": [
        ""
      ],
      "execution_count": null,
      "outputs": []
    }
  ]
}